{
 "cells": [
  {
   "cell_type": "code",
   "execution_count": 1,
   "id": "4902128f-84f6-4493-8efc-4f862e30e087",
   "metadata": {},
   "outputs": [],
   "source": [
    "import os\n",
    "import xml.etree.ElementTree as ET\n",
    "import pandas as pd\n",
    "from collections import defaultdict\n",
    "import numpy as np\n",
    "from tensorflow.keras.utils import to_categorical\n",
    "import keras\n",
    "import tensorflow as tf\n",
    "from tensorflow.keras.models import Sequential\n",
    "from tensorflow.keras.layers import Conv2D, MaxPooling2D, Flatten, Dense, Dropout\n",
    "import matplotlib.pyplot as plt\n",
    "#from tensorflow.keras.preprocessing.image import ImageDataGenerator\n",
    "from sklearn.model_selection import train_test_split\n",
    "from sklearn.utils import shuffle\n",
    "from sklearn.preprocessing import LabelEncoder\n",
    "import cv2"
   ]
  },
  {
   "cell_type": "markdown",
   "id": "a90cf9d2-4aba-4ff4-92ed-1a9318f1c770",
   "metadata": {},
   "source": [
    "**LOADING THE IMAGES**"
   ]
  },
  {
   "cell_type": "code",
   "execution_count": 2,
   "id": "81df60ba-5558-4d90-a77a-0a65720c3594",
   "metadata": {},
   "outputs": [],
   "source": [
    "image_dir = 'dataset/images'\n",
    "annotation_dir = 'dataset/annotations'\n",
    "\n",
    "data=[]\n",
    "\n",
    "for filename in os.listdir(annotation_dir):\n",
    "    tree = ET.parse(os.path.join(annotation_dir, filename))\n",
    "    root = tree.getroot()\n",
    "\n",
    "    name = root[1].text\n",
    "    label = root[4][0].text\n",
    "    data.append((name, root[4][0].text))"
   ]
  },
  {
   "cell_type": "markdown",
   "id": "0e8dc249-e352-4e12-b879-0e5c0da1cb37",
   "metadata": {},
   "source": [
    "**FILTERING THE IMAGES**"
   ]
  },
  {
   "cell_type": "code",
   "execution_count": 3,
   "id": "549d1bd5-23ad-457d-b243-03ab20c1d4ad",
   "metadata": {},
   "outputs": [],
   "source": [
    "class_images = defaultdict(list)\n",
    "for image, classname in data:\n",
    "    class_images[classname].append((image, classname))\n",
    "\n",
    "filtered_data=[]\n",
    "for classname, images in class_images.items():\n",
    "    filtered_data.extend(images[:61])"
   ]
  },
  {
   "cell_type": "markdown",
   "id": "7fe9dfc8-bc27-419b-8314-4bdcfc2c6bf3",
   "metadata": {},
   "source": [
    "**CONVERTING TO ARRAYS AND SHUFFLING**"
   ]
  },
  {
   "cell_type": "code",
   "execution_count": 4,
   "id": "7a6b1be8-1bf9-4672-9add-d7a00a02204c",
   "metadata": {},
   "outputs": [],
   "source": [
    "images=[]\n",
    "labels=[]\n",
    "count=0\n",
    "for image_name, class_name in filtered_data:\n",
    "    \"\"\"\n",
    "    try:\n",
    "        image = cv2.imread(image_name)\n",
    "        image = cv2.resize(image, (4, 4))\n",
    "        images.append(image)\n",
    "    except:\n",
    "        count+=1\n",
    "        print(image_name, \" didn't work: \", count)\n",
    "        continue\n",
    "    \"\"\"\n",
    "    image = cv2.imread(\"dataset/images/\"+image_name)\n",
    "    image = cv2.resize(image, (128, 128))\n",
    "    images.append(image)\n",
    "    labels.append(class_name)\n",
    "\n",
    "images = np.array(images)\n",
    "labels = np.array(labels)\n",
    "\n",
    "images, labels = shuffle(images, labels, random_state=42)"
   ]
  },
  {
   "cell_type": "markdown",
   "id": "8f593295-3973-446e-9040-60a3d1fa4eaa",
   "metadata": {},
   "source": [
    "**NORMALIZING & FLATTENING IMAGES**"
   ]
  },
  {
   "cell_type": "code",
   "execution_count": 5,
   "id": "c5bd46f6-c0e0-4bec-ae08-3475714d2d84",
   "metadata": {},
   "outputs": [],
   "source": [
    "images = images / 255.0"
   ]
  },
  {
   "cell_type": "code",
   "execution_count": 85,
   "id": "17d43159-7633-49b8-9e0e-095e078929d9",
   "metadata": {},
   "outputs": [],
   "source": [
    "images = images.reshape(len(images), -1).astype(\"float32\")"
   ]
  },
  {
   "cell_type": "code",
   "execution_count": 6,
   "id": "f4563ec0-a331-4274-9a30-21cfc7972414",
   "metadata": {},
   "outputs": [
    {
     "data": {
      "text/plain": [
       "(244, 128, 128, 3)"
      ]
     },
     "execution_count": 6,
     "metadata": {},
     "output_type": "execute_result"
    }
   ],
   "source": [
    "images.shape"
   ]
  },
  {
   "cell_type": "markdown",
   "id": "7e75cd38-f10e-470f-a4c9-1bb2f2a1abc5",
   "metadata": {},
   "source": [
    "**ENCODE LABELS**"
   ]
  },
  {
   "cell_type": "code",
   "execution_count": 7,
   "id": "a361a33a-bdf7-4ca9-bb8d-05170580f6ce",
   "metadata": {},
   "outputs": [],
   "source": [
    "label_encoder = LabelEncoder()\n",
    "labels_encoded = label_encoder.fit_transform(labels)"
   ]
  },
  {
   "cell_type": "code",
   "execution_count": 8,
   "id": "8c863b4c-3db5-465f-92ee-22b289dbabc7",
   "metadata": {},
   "outputs": [
    {
     "data": {
      "text/plain": [
       "array([3, 3, 0, 2, 2, 0, 2, 0, 3, 1, 3, 2, 1, 0, 1, 0, 2, 3, 1, 0, 3, 3,\n",
       "       1, 3, 2, 1, 3, 1, 0, 0, 1, 2, 3, 3, 3, 1, 1, 2, 0, 2, 1, 0, 1, 3,\n",
       "       2, 1, 0, 3, 2, 2, 2, 1, 0, 1, 3, 1, 0, 2, 0, 2, 0, 1, 0, 2, 1, 1,\n",
       "       1, 1, 2, 0, 0, 2, 1, 3, 2, 2, 0, 3, 3, 0, 0, 1, 1, 0, 2, 0, 3, 3,\n",
       "       3, 3, 3, 2, 0, 1, 0, 3, 1, 0, 2, 1, 3, 1, 2, 1, 0, 3, 2, 2, 2, 2,\n",
       "       3, 3, 1, 3, 1, 0, 0, 0, 1, 1, 0, 0, 1, 3, 0, 1, 3, 1, 0, 0, 3, 2,\n",
       "       3, 0, 3, 0, 3, 0, 0, 0, 1, 0, 0, 2, 2, 1, 2, 1, 3, 2, 3, 0, 3, 0,\n",
       "       0, 1, 3, 2, 3, 1, 2, 3, 0, 2, 3, 1, 3, 0, 2, 2, 2, 3, 0, 1, 3, 2,\n",
       "       3, 0, 1, 1, 1, 2, 2, 1, 3, 3, 3, 2, 0, 3, 0, 1, 2, 0, 2, 2, 1, 3,\n",
       "       1, 3, 2, 0, 2, 2, 2, 2, 0, 3, 3, 1, 3, 3, 2, 0, 2, 2, 2, 0, 3, 0,\n",
       "       2, 3, 3, 0, 0, 0, 1, 1, 1, 1, 2, 1, 2, 2, 1, 2, 3, 2, 1, 1, 3, 1,\n",
       "       0, 1], dtype=int64)"
      ]
     },
     "execution_count": 8,
     "metadata": {},
     "output_type": "execute_result"
    }
   ],
   "source": [
    "labels_encoded"
   ]
  },
  {
   "cell_type": "markdown",
   "id": "21b22fde-f54a-4eb0-877f-ecd6bd367692",
   "metadata": {},
   "source": [
    "**ONE-HOT ENCODE LABELS**"
   ]
  },
  {
   "cell_type": "code",
   "execution_count": 9,
   "id": "666ec7ef-bc54-458c-94f8-bd2f7de4748a",
   "metadata": {},
   "outputs": [],
   "source": [
    "labels_one_hot = to_categorical(labels_encoded, num_classes=4)"
   ]
  },
  {
   "cell_type": "markdown",
   "id": "58c99efa-cdaa-4538-bf04-3ea80d8d80f9",
   "metadata": {},
   "source": [
    "**SPLITTING INTO TRAINING AND TESTING**"
   ]
  },
  {
   "cell_type": "code",
   "execution_count": 10,
   "id": "0161b5fd-5f02-430e-b816-092954800cd5",
   "metadata": {},
   "outputs": [],
   "source": [
    "x_train, x_test, y_train, y_test = train_test_split(images, labels_one_hot, test_size=0.1, random_state=42)"
   ]
  },
  {
   "cell_type": "markdown",
   "id": "15b488f3-6b3c-4826-b08a-5473db24f988",
   "metadata": {},
   "source": [
    "**MODEL ARCHITECTURE**"
   ]
  },
  {
   "cell_type": "code",
   "execution_count": 11,
   "id": "66c8c7ed-83da-43b2-8838-eceb7f01d59c",
   "metadata": {},
   "outputs": [
    {
     "data": {
      "text/plain": [
       "{'name': 'Adam',\n",
       " 'weight_decay': None,\n",
       " 'clipnorm': None,\n",
       " 'global_clipnorm': None,\n",
       " 'clipvalue': None,\n",
       " 'use_ema': False,\n",
       " 'ema_momentum': 0.99,\n",
       " 'ema_overwrite_frequency': None,\n",
       " 'jit_compile': False,\n",
       " 'is_legacy_optimizer': False,\n",
       " 'learning_rate': 0.001,\n",
       " 'beta_1': 0.9,\n",
       " 'beta_2': 0.999,\n",
       " 'epsilon': 1e-07,\n",
       " 'amsgrad': False}"
      ]
     },
     "execution_count": 11,
     "metadata": {},
     "output_type": "execute_result"
    }
   ],
   "source": [
    "model = Sequential([\n",
    "    Conv2D(32, (3,3), activation='relu', input_shape=(128, 128, 3)),\n",
    "    MaxPooling2D((2,2)),\n",
    "    Conv2D(64, (3,3), activation='relu'),\n",
    "    MaxPooling2D((2,2)),\n",
    "    Conv2D(64, (3,3), activation='relu'),\n",
    "    MaxPooling2D((2,2)),\n",
    "    Flatten(),\n",
    "    Dense(512, activation='relu'),\n",
    "    Dropout(0.1),\n",
    "    Dense(4, activation='softmax')\n",
    "])\n",
    "optimizer = keras.optimizers.Adam(learning_rate=0.001)\n",
    "model.compile(optimizer=optimizer, loss='categorical_crossentropy', metrics=['accuracy'])\n",
    "model.optimizer.get_config()"
   ]
  },
  {
   "cell_type": "markdown",
   "id": "1b2eac2a-a808-4dc9-bcae-4d57f5817fe9",
   "metadata": {},
   "source": [
    "**Train Model**"
   ]
  },
  {
   "cell_type": "code",
   "execution_count": 12,
   "id": "749f370e-c2d4-44f0-98bb-2339666015e1",
   "metadata": {},
   "outputs": [
    {
     "name": "stdout",
     "output_type": "stream",
     "text": [
      "Epoch 1/25\n",
      "7/7 [==============================] - 3s 281ms/step - loss: 1.8211 - accuracy: 0.2237 - val_loss: 1.3943 - val_accuracy: 0.1600\n",
      "Epoch 2/25\n",
      "7/7 [==============================] - 2s 259ms/step - loss: 1.3795 - accuracy: 0.2877 - val_loss: 1.4309 - val_accuracy: 0.3600\n",
      "Epoch 3/25\n",
      "7/7 [==============================] - 2s 259ms/step - loss: 1.2767 - accuracy: 0.4338 - val_loss: 1.3185 - val_accuracy: 0.5600\n",
      "Epoch 4/25\n",
      "7/7 [==============================] - 2s 250ms/step - loss: 1.1014 - accuracy: 0.5388 - val_loss: 1.4510 - val_accuracy: 0.2400\n",
      "Epoch 5/25\n",
      "7/7 [==============================] - 2s 258ms/step - loss: 0.9623 - accuracy: 0.5662 - val_loss: 1.3517 - val_accuracy: 0.4000\n",
      "Epoch 6/25\n",
      "7/7 [==============================] - 2s 262ms/step - loss: 0.7766 - accuracy: 0.6986 - val_loss: 0.9899 - val_accuracy: 0.6000\n",
      "Epoch 7/25\n",
      "7/7 [==============================] - 2s 266ms/step - loss: 0.5759 - accuracy: 0.7900 - val_loss: 0.8187 - val_accuracy: 0.7200\n",
      "Epoch 8/25\n",
      "7/7 [==============================] - 2s 259ms/step - loss: 0.4340 - accuracy: 0.8767 - val_loss: 1.0238 - val_accuracy: 0.5600\n",
      "Epoch 9/25\n",
      "7/7 [==============================] - 2s 272ms/step - loss: 0.3296 - accuracy: 0.8904 - val_loss: 1.2490 - val_accuracy: 0.6000\n",
      "Epoch 10/25\n",
      "7/7 [==============================] - 2s 272ms/step - loss: 0.2465 - accuracy: 0.9361 - val_loss: 1.3755 - val_accuracy: 0.4800\n",
      "Epoch 11/25\n",
      "7/7 [==============================] - 2s 245ms/step - loss: 0.1731 - accuracy: 0.9543 - val_loss: 2.1175 - val_accuracy: 0.6400\n",
      "Epoch 12/25\n",
      "7/7 [==============================] - 2s 249ms/step - loss: 0.1368 - accuracy: 0.9498 - val_loss: 1.4308 - val_accuracy: 0.6400\n",
      "Epoch 13/25\n",
      "7/7 [==============================] - 2s 243ms/step - loss: 0.1177 - accuracy: 0.9726 - val_loss: 1.6360 - val_accuracy: 0.6400\n",
      "Epoch 14/25\n",
      "7/7 [==============================] - 2s 245ms/step - loss: 0.1218 - accuracy: 0.9543 - val_loss: 1.8997 - val_accuracy: 0.6000\n",
      "Epoch 15/25\n",
      "7/7 [==============================] - 2s 246ms/step - loss: 0.2269 - accuracy: 0.9315 - val_loss: 2.1678 - val_accuracy: 0.6000\n",
      "Epoch 16/25\n",
      "7/7 [==============================] - 2s 248ms/step - loss: 0.1351 - accuracy: 0.9863 - val_loss: 1.4088 - val_accuracy: 0.5600\n",
      "Epoch 17/25\n",
      "7/7 [==============================] - 2s 264ms/step - loss: 0.0924 - accuracy: 0.9817 - val_loss: 1.5751 - val_accuracy: 0.6000\n",
      "Epoch 18/25\n",
      "7/7 [==============================] - 2s 267ms/step - loss: 0.0391 - accuracy: 1.0000 - val_loss: 1.7365 - val_accuracy: 0.6400\n",
      "Epoch 19/25\n",
      "7/7 [==============================] - 2s 248ms/step - loss: 0.0198 - accuracy: 0.9954 - val_loss: 1.9989 - val_accuracy: 0.6000\n",
      "Epoch 20/25\n",
      "7/7 [==============================] - 2s 251ms/step - loss: 0.0103 - accuracy: 0.9954 - val_loss: 2.0221 - val_accuracy: 0.6400\n",
      "Epoch 21/25\n",
      "7/7 [==============================] - 2s 245ms/step - loss: 0.0057 - accuracy: 1.0000 - val_loss: 2.1540 - val_accuracy: 0.6400\n",
      "Epoch 22/25\n",
      "7/7 [==============================] - 2s 250ms/step - loss: 0.0038 - accuracy: 1.0000 - val_loss: 2.2720 - val_accuracy: 0.6400\n",
      "Epoch 23/25\n",
      "7/7 [==============================] - 2s 252ms/step - loss: 0.0021 - accuracy: 1.0000 - val_loss: 2.1923 - val_accuracy: 0.6000\n",
      "Epoch 24/25\n",
      "7/7 [==============================] - 2s 257ms/step - loss: 0.0021 - accuracy: 1.0000 - val_loss: 1.9750 - val_accuracy: 0.6400\n",
      "Epoch 25/25\n",
      "7/7 [==============================] - 2s 249ms/step - loss: 8.0855e-04 - accuracy: 1.0000 - val_loss: 1.9045 - val_accuracy: 0.6400\n"
     ]
    }
   ],
   "source": [
    "history = model.fit(x_train, y_train, epochs=25, batch_size=32, validation_data=(x_test, y_test))"
   ]
  },
  {
   "cell_type": "code",
   "execution_count": 13,
   "id": "ab7968dd-a113-4541-b712-81f4a675fa96",
   "metadata": {},
   "outputs": [
    {
     "name": "stdout",
     "output_type": "stream",
     "text": [
      "1/1 [==============================] - 0s 70ms/step - loss: 1.9045 - accuracy: 0.6400\n",
      "Validation Loss: 1.9045222997665405\n",
      "Validation Accuracy: 0.6399999856948853\n"
     ]
    }
   ],
   "source": [
    "val_loss, val_accuracy = model.evaluate(x_test, y_test)\n",
    "print(f'Validation Loss: {val_loss}')\n",
    "print(f'Validation Accuracy: {val_accuracy}')"
   ]
  },
  {
   "cell_type": "code",
   "execution_count": 14,
   "id": "7d8ec9f9-6bbf-4512-8edc-4e82d32ac8e3",
   "metadata": {},
   "outputs": [
    {
     "data": {
      "image/png": "[encoded data removed]",
      "text/plain": [
       "<Figure size 1000x500 with 1 Axes>"
      ]
     },
     "metadata": {},
     "output_type": "display_data"
    }
   ],
   "source": [
    "plt.figure(figsize=(10, 5))\n",
    "plt.plot(history.history['loss'], label='Training Loss')\n",
    "plt.plot(history.history['val_loss'], label='Validation Loss')\n",
    "plt.title('Model Loss')\n",
    "plt.xlabel('Epoch')\n",
    "plt.ylabel('Loss')\n",
    "plt.legend(loc='upper right')\n",
    "plt.show()"
   ]
  },
  {
   "cell_type": "code",
   "execution_count": 57,
   "id": "63aa4ef5-d7ac-4a73-9c8e-42c9021efb55",
   "metadata": {},
   "outputs": [],
   "source": [
    "image = cv2.imread(\"test/traffictest3.png\") #stoptest3, traffictest, \n",
    "image = cv2.resize(image, (128, 128))\n",
    "image = image / 255.0\n",
    "image = np.reshape(image, (1, 128, 128, 3))"
   ]
  },
  {
   "cell_type": "code",
   "execution_count": 61,
   "id": "5d70bd03-837d-4cb0-ae59-c2608d2793d9",
   "metadata": {},
   "outputs": [
    {
     "name": "stdout",
     "output_type": "stream",
     "text": [
      "1/1 [==============================] - 0s 32ms/step\n",
      "trafficlight\n"
     ]
    }
   ],
   "source": [
    "predictions = model.predict(image)\n",
    "predicted_class = np.argmax(predictions, axis=1)\n",
    "class_names = label_encoder.inverse_transform(predicted_class)\n",
    "\n",
    "print(class_names[0])"
   ]
  },
  {
   "cell_type": "code",
   "execution_count": 15,
   "id": "ba5a8ad6-c2a5-4a34-a886-7c727d830114",
   "metadata": {},
   "outputs": [],
   "source": [
    "def detect_image(image_path):\n",
    "    image = cv2.imread(image_path)\n",
    "    image = cv2.resize(image, (128, 128))\n",
    "    image = image / 255.0\n",
    "    image = np.reshape(image, (1, 128, 128, 3))\n",
    "\n",
    "    predictions = model.predict(image)\n",
    "    predicted_class = np.argmax(predictions, axis=1)\n",
    "    class_names = label_encoder.inverse_transform(predicted_class)\n",
    "\n",
    "    return class_names[0]"
   ]
  },
  {
   "cell_type": "code",
   "execution_count": 16,
   "id": "6e25a5bb-24f8-4ca4-ae28-ed925111eed9",
   "metadata": {},
   "outputs": [
    {
     "name": "stdout",
     "output_type": "stream",
     "text": [
      "1/1 [==============================] - 0s 107ms/step\n"
     ]
    },
    {
     "data": {
      "text/plain": [
       "'trafficlight'"
      ]
     },
     "execution_count": 16,
     "metadata": {},
     "output_type": "execute_result"
    }
   ],
   "source": [
    "detect_image(\"test/traffictest3.png\")"
   ]
  },
  {
   "cell_type": "markdown",
   "id": "14b6f534-08f4-4666-9925-046ca2ed4923",
   "metadata": {},
   "source": [
    "**Text To Speech**"
   ]
  },
  {
   "cell_type": "code",
   "execution_count": 17,
   "id": "6e998b8b-6d05-424f-90f4-01608cf4f73c",
   "metadata": {},
   "outputs": [],
   "source": [
    "import pyttsx3\n",
    "\n",
    "def text_to_speech(text):\n",
    "    engine = pyttsx3.init()\n",
    "    engine.say(text)\n",
    "    engine.runAndWait()"
   ]
  },
  {
   "cell_type": "code",
   "execution_count": 21,
   "id": "435fdafa-d09e-4650-a9e3-6ccfdf370d73",
   "metadata": {},
   "outputs": [
    {
     "name": "stdout",
     "output_type": "stream",
     "text": [
      "1/1 [==============================] - 0s 18ms/step\n"
     ]
    }
   ],
   "source": [
    "text_to_speech(detect_image(\"test/traffictest3.png\"))"
   ]
  },
  {
   "cell_type": "markdown",
   "id": "d327e9c6-4f54-4325-add8-0de8e0481151",
   "metadata": {},
   "source": [
    "**All Together**"
   ]
  },
  {
   "cell_type": "code",
   "execution_count": 22,
   "id": "21f70057-2efe-4a72-bf38-2af214f7188d",
   "metadata": {},
   "outputs": [],
   "source": [
    "def auditory_classification(image_path):\n",
    "    text_to_speech(detect_image(image_path))"
   ]
  },
  {
   "cell_type": "code",
   "execution_count": 27,
   "id": "45d20f55-8cda-4f80-82fe-eabb29737a40",
   "metadata": {},
   "outputs": [
    {
     "name": "stdout",
     "output_type": "stream",
     "text": [
      "1/1 [==============================] - 0s 17ms/step\n"
     ]
    }
   ],
   "source": [
    "auditory_classification(\"test/stoptest3.png\")"
   ]
  }
 ],
 "metadata": {
  "kernelspec": {
   "display_name": "Python 3 (ipykernel)",
   "language": "python",
   "name": "python3"
  },
  "language_info": {
   "codemirror_mode": {
    "name": "ipython",
    "version": 3
   },
   "file_extension": ".py",
   "mimetype": "text/x-python",
   "name": "python",
   "nbconvert_exporter": "python",
   "pygments_lexer": "ipython3",
   "version": "3.8.19"
  }
 },
 "nbformat": 4,
 "nbformat_minor": 5
}
