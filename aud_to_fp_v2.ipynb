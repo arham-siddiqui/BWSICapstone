{
 "cells": [
  {
   "cell_type": "code",
   "execution_count": 135,
   "id": "8f96ba30-85d4-47aa-b9b2-46796108268d",
   "metadata": {},
   "outputs": [],
   "source": [
    "import librosa\n",
    "import os\n",
    "import xml.etree.ElementTree as ET\n",
    "import pandas as pd\n",
    "from collections import defaultdict\n",
    "import numpy as np\n",
    "from tensorflow.keras.utils import to_categorical\n",
    "import keras\n",
    "import tensorflow as tf\n",
    "from tensorflow.keras.models import Sequential\n",
    "from tensorflow.keras.layers import Conv2D, MaxPooling2D, Flatten, Dense, Dropout\n",
    "import matplotlib.pyplot as plt\n",
    "#from tensorflow.keras.preprocessing.image import ImageDataGenerator\n",
    "from sklearn.model_selection import train_test_split\n",
    "from sklearn.utils import shuffle\n",
    "from sklearn.preprocessing import LabelEncoder\n",
    "from sklearn.metrics import confusion_matrix, roc_curve, auc\n",
    "import cv2\n",
    "import sklearn\n",
    "from sklearn.metrics import confusion_matrix, ConfusionMatrixDisplay, accuracy_score\n",
    "import matplotlib.pyplot as plt"
   ]
  },
  {
   "cell_type": "code",
   "execution_count": 16,
   "id": "4372d4eb-e810-4770-9258-efd71865796c",
   "metadata": {},
   "outputs": [],
   "source": [
    "def extract_features(audio_file):\n",
    "    \"\"\"Extracts audio features from a given audio file.\"\"\"\n",
    "\n",
    "    y, sr = librosa.load(audio_file)\n",
    "\n",
    "    # Extract features\n",
    "    zcr = np.mean(librosa.feature.zero_crossing_rate(y=y))\n",
    "    centroid = np.mean(librosa.feature.spectral_centroid(y=y, sr=sr))\n",
    "    bandwidth = np.mean(librosa.feature.spectral_bandwidth(y=y, sr=sr))\n",
    "    contrast = np.mean(librosa.feature.spectral_contrast(y=y, sr=sr))\n",
    "    rolloff = np.mean(librosa.feature.spectral_rolloff(y=y, sr=sr))\n",
    "    rms = np.mean(librosa.feature.rms(y=y))\n",
    "    chroma = np.mean(librosa.feature.chroma_stft(y=y, sr=sr), axis=1)\n",
    "    mfcc = np.mean(librosa.feature.mfcc(y=y, sr=sr), axis=1)\n",
    "\n",
    "    # Concatenate features\n",
    "    features = np.hstack([zcr, centroid, bandwidth, contrast, rolloff, rms, chroma, mfcc])\n",
    "\n",
    "    return features"
   ]
  },
  {
   "cell_type": "code",
   "execution_count": 44,
   "id": "74e69fba-ae33-4291-ae6b-31ca55ddf1a6",
   "metadata": {},
   "outputs": [],
   "source": [
    "sound_dir = '/Users/terryding/Downloads/Audio Training Data for Auditory Feature 2/Car Honk- 1'\n",
    "fingerprints = []\n",
    "labels = []\n",
    "for file_name in os.listdir(sound_dir):\n",
    "    labels.append([1,0,0,0,0,0,0])\n",
    "    audio_file_path = os.path.join(sound_dir, file_name)\n",
    "    \n",
    "    #audio_file_name = os.path.basename(audio_file_path)\n",
    "    #filler = audio_file_name.split('-')\n",
    "    #identifier_num = int(numbers[1])\n",
    "    #class_label = num_class_mapping[identifier_num]\n",
    "    #getting the class from the label \n",
    "    \n",
    "    features = extract_features(audio_file_path)\n",
    "    fingerprints.append(features)"
   ]
  },
  {
   "cell_type": "code",
   "execution_count": 52,
   "id": "3ba84796-8477-41c1-8690-032ac8d3d6a1",
   "metadata": {},
   "outputs": [
    {
     "name": "stderr",
     "output_type": "stream",
     "text": [
      "/opt/anaconda3/envs/week4/lib/python3.8/site-packages/librosa/core/pitch.py:101: UserWarning: Trying to estimate tuning from empty frequency set.\n",
      "  return pitch_tuning(\n"
     ]
    }
   ],
   "source": [
    "sound_dir = '/Users/terryding/Downloads/Audio Training Data for Auditory Feature 2/Dog Barking- 3'\n",
    "for file_name in os.listdir(sound_dir):\n",
    "    labels.append([0,1,0,0,0,0,0])\n",
    "    audio_file_path = os.path.join(sound_dir, file_name)\n",
    "    \n",
    "    #audio_file_name = os.path.basename(audio_file_path)\n",
    "    #filler = audio_file_name.split('-')\n",
    "    #identifier_num = int(numbers[1])\n",
    "    #class_label = num_class_mapping[identifier_num]\n",
    "    #getting the class from the label \n",
    "    \n",
    "    features = extract_features(audio_file_path)\n",
    "    fingerprints.append(features)"
   ]
  },
  {
   "cell_type": "code",
   "execution_count": 53,
   "id": "91423397-69b7-496c-b170-046241bfe5a7",
   "metadata": {},
   "outputs": [],
   "source": [
    "sound_dir = '/Users/terryding/Downloads/Audio Training Data for Auditory Feature 2/Drilling- 4'\n",
    "for file_name in os.listdir(sound_dir):\n",
    "    labels.append([0,0,1,0,0,0,0])\n",
    "    audio_file_path = os.path.join(sound_dir, file_name)\n",
    "    \n",
    "    #audio_file_name = os.path.basename(audio_file_path)\n",
    "    #filler = audio_file_name.split('-')\n",
    "    #identifier_num = int(numbers[1])\n",
    "    #class_label = num_class_mapping[identifier_num]\n",
    "    #getting the class from the label \n",
    "    \n",
    "    features = extract_features(audio_file_path)\n",
    "    fingerprints.append(features)"
   ]
  },
  {
   "cell_type": "code",
   "execution_count": 54,
   "id": "0e85b129-b9fa-451b-8a05-c0303f99a4e1",
   "metadata": {},
   "outputs": [],
   "source": [
    "sound_dir = '/Users/terryding/Downloads/Audio Training Data for Auditory Feature 2/Engine Idling- 5'\n",
    "for file_name in os.listdir(sound_dir):\n",
    "    labels.append([0,0,0,1,0,0,0])\n",
    "    audio_file_path = os.path.join(sound_dir, file_name)\n",
    "    \n",
    "    #audio_file_name = os.path.basename(audio_file_path)\n",
    "    #filler = audio_file_name.split('-')\n",
    "    #identifier_num = int(numbers[1])\n",
    "    #class_label = num_class_mapping[identifier_num]\n",
    "    #getting the class from the label \n",
    "    \n",
    "    features = extract_features(audio_file_path)\n",
    "    fingerprints.append(features)"
   ]
  },
  {
   "cell_type": "code",
   "execution_count": 55,
   "id": "85ca4fab-6aca-43c2-9cf9-a5c073541f69",
   "metadata": {},
   "outputs": [],
   "source": [
    "sound_dir = '/Users/terryding/Downloads/Audio Training Data for Auditory Feature 2/Jackhammer- 7'\n",
    "for file_name in os.listdir(sound_dir):\n",
    "    labels.append([0,0,0,0,1,0,0])\n",
    "    audio_file_path = os.path.join(sound_dir, file_name)\n",
    "    \n",
    "    #audio_file_name = os.path.basename(audio_file_path)\n",
    "    #filler = audio_file_name.split('-')\n",
    "    #identifier_num = int(numbers[1])\n",
    "    #class_label = num_class_mapping[identifier_num]\n",
    "    #getting the class from the label \n",
    "    \n",
    "    features = extract_features(audio_file_path)\n",
    "    fingerprints.append(features)"
   ]
  },
  {
   "cell_type": "code",
   "execution_count": 56,
   "id": "ba817335-8fb1-4b82-879a-917aed644ddd",
   "metadata": {},
   "outputs": [],
   "source": [
    "sound_dir = '/Users/terryding/Downloads/Audio Training Data for Auditory Feature 2/Siren- 8'\n",
    "for file_name in os.listdir(sound_dir):\n",
    "    labels.append([0,0,0,0,0,1,0])\n",
    "    audio_file_path = os.path.join(sound_dir, file_name)\n",
    "    \n",
    "    #audio_file_name = os.path.basename(audio_file_path)\n",
    "    #filler = audio_file_name.split('-')\n",
    "    #identifier_num = int(numbers[1])\n",
    "    #class_label = num_class_mapping[identifier_num]\n",
    "    #getting the class from the label \n",
    "    \n",
    "    features = extract_features(audio_file_path)\n",
    "    fingerprints.append(features)"
   ]
  },
  {
   "cell_type": "code",
   "execution_count": 62,
   "id": "cbd647fa-c624-4f92-b8a7-061d40a50ff9",
   "metadata": {},
   "outputs": [],
   "source": [
    "sound_dir = '/Users/terryding/Downloads/Audio Training Data for Auditory Feature 2/Violence- 6'\n",
    "for file_name in os.listdir(sound_dir):\n",
    "    labels.append([0,0,0,0,0,0,1])\n",
    "    audio_file_path = os.path.join(sound_dir, file_name)\n",
    "    \n",
    "    #audio_file_name = os.path.basename(audio_file_path)\n",
    "    #filler = audio_file_name.split('-')\n",
    "    #identifier_num = int(numbers[1])\n",
    "    #class_label = num_class_mapping[identifier_num]\n",
    "    #getting the class from the label \n",
    "    \n",
    "    features = extract_features(audio_file_path)\n",
    "    fingerprints.append(features)"
   ]
  },
  {
   "cell_type": "code",
   "execution_count": 132,
   "id": "87cdf436-1ca7-4aad-a78e-0b252348ea6b",
   "metadata": {},
   "outputs": [
    {
     "name": "stdout",
     "output_type": "stream",
     "text": [
      "[[ 8.57483969e-02  1.46762780e+03  1.61766352e+03 ...  3.15619984e+01\n",
      "  -3.88983297e+00 -8.49288750e+00]\n",
      " [ 1.38378342e-01  1.97902788e+03  1.85476263e+03 ... -1.09585893e+00\n",
      "   6.24003783e-02  6.13262129e+00]\n",
      " [ 7.49090787e-02  1.48857971e+03  1.61082057e+03 ...  1.41111479e+01\n",
      "   2.03466930e+01  1.12981529e+01]\n",
      " ...\n",
      " [ 1.64533343e-01  2.82901000e+03  2.49172636e+03 ... -1.47441566e+00\n",
      "   1.14619124e+00  3.04292917e+00]\n",
      " [ 6.93097796e-02  1.21471279e+03  1.27690381e+03 ...  1.00775146e+00\n",
      "   2.06933711e-02  1.43552721e+00]\n",
      " [ 1.05121590e-01  2.10823972e+03  1.99812244e+03 ...  1.87281597e+00\n",
      "  -4.80463237e-01  1.77841413e+00]]\n"
     ]
    }
   ],
   "source": [
    "print(fingerprints)"
   ]
  },
  {
   "cell_type": "code",
   "execution_count": 68,
   "id": "fea13f2a-f8cc-4d14-8ea1-5bf3e9bdc936",
   "metadata": {},
   "outputs": [],
   "source": [
    "fingerprints = np.array(fingerprints)\n",
    "labels = np.array(labels)"
   ]
  },
  {
   "cell_type": "code",
   "execution_count": 69,
   "id": "23965311-ad6f-47b2-a5bb-f28fcb487289",
   "metadata": {},
   "outputs": [],
   "source": [
    "x_train, x_val, y_train, y_val = train_test_split(fingerprints, labels, test_size=0.3, random_state=42)"
   ]
  },
  {
   "cell_type": "code",
   "execution_count": 70,
   "id": "9be5b917-9755-4877-8163-dbc1c7113537",
   "metadata": {},
   "outputs": [],
   "source": [
    "x_val, x_test, y_val, y_test = train_test_split(x_val, y_val, test_size=0.5, random_state=42)"
   ]
  },
  {
   "cell_type": "code",
   "execution_count": 82,
   "id": "32e5fb3d-64f4-41c1-9ca9-5fc8117b2f46",
   "metadata": {},
   "outputs": [
    {
     "data": {
      "text/plain": [
       "{'name': 'Adam',\n",
       " 'learning_rate': 0.001,\n",
       " 'decay': 0.0,\n",
       " 'beta_1': 0.9,\n",
       " 'beta_2': 0.999,\n",
       " 'epsilon': 1e-07,\n",
       " 'amsgrad': False}"
      ]
     },
     "execution_count": 82,
     "metadata": {},
     "output_type": "execute_result"
    }
   ],
   "source": [
    "model = Sequential([\n",
    "    Dense(512, activation='relu', ),\n",
    "    Dense(512/2, activation='relu'),\n",
    "    Dense(512, activation='relu'),\n",
    "    Dense(512/2, activation='relu'),\n",
    "    Dense(512, activation='relu'),\n",
    "    Dropout(0.1),\n",
    "    Dense(7, activation='softmax')\n",
    "])\n",
    "optimizer = tf.keras.optimizers.legacy.Adam(learning_rate=0.001)\n",
    "model.compile(optimizer=optimizer, loss='categorical_crossentropy', metrics=['accuracy'])\n",
    "model.optimizer.get_config()"
   ]
  },
  {
   "cell_type": "code",
   "execution_count": 88,
   "id": "2f226cc0-ebaa-4075-ba65-ac4509b28a49",
   "metadata": {},
   "outputs": [
    {
     "name": "stdout",
     "output_type": "stream",
     "text": [
      "Epoch 1/25\n",
      "159/159 [==============================] - 1s 5ms/step - loss: 0.2893 - accuracy: 0.8997 - val_loss: 0.7117 - val_accuracy: 0.8177\n",
      "Epoch 2/25\n",
      "159/159 [==============================] - 1s 4ms/step - loss: 0.2825 - accuracy: 0.9096 - val_loss: 0.7251 - val_accuracy: 0.8306\n",
      "Epoch 3/25\n",
      "159/159 [==============================] - 1s 4ms/step - loss: 0.3718 - accuracy: 0.8812 - val_loss: 1.1089 - val_accuracy: 0.6998\n",
      "Epoch 4/25\n",
      "159/159 [==============================] - 1s 5ms/step - loss: 0.2791 - accuracy: 0.8993 - val_loss: 0.6331 - val_accuracy: 0.8306\n",
      "Epoch 5/25\n",
      "159/159 [==============================] - 1s 4ms/step - loss: 0.2957 - accuracy: 0.9041 - val_loss: 0.8686 - val_accuracy: 0.8269\n",
      "Epoch 6/25\n",
      "159/159 [==============================] - 1s 5ms/step - loss: 0.2818 - accuracy: 0.8981 - val_loss: 0.7106 - val_accuracy: 0.8527\n",
      "Epoch 7/25\n",
      "159/159 [==============================] - 1s 4ms/step - loss: 0.2307 - accuracy: 0.9135 - val_loss: 0.8961 - val_accuracy: 0.8232\n",
      "Epoch 8/25\n",
      "159/159 [==============================] - 1s 4ms/step - loss: 0.4022 - accuracy: 0.8717 - val_loss: 0.6890 - val_accuracy: 0.8361\n",
      "Epoch 9/25\n",
      "159/159 [==============================] - 1s 5ms/step - loss: 0.2643 - accuracy: 0.9005 - val_loss: 0.8361 - val_accuracy: 0.8269\n",
      "Epoch 10/25\n",
      "159/159 [==============================] - 1s 7ms/step - loss: 0.2498 - accuracy: 0.9163 - val_loss: 0.8304 - val_accuracy: 0.8158\n",
      "Epoch 11/25\n",
      "159/159 [==============================] - 1s 5ms/step - loss: 0.1676 - accuracy: 0.9301 - val_loss: 0.7916 - val_accuracy: 0.8324\n",
      "Epoch 12/25\n",
      "159/159 [==============================] - 1s 5ms/step - loss: 0.3740 - accuracy: 0.8784 - val_loss: 0.7947 - val_accuracy: 0.7974\n",
      "Epoch 13/25\n",
      "159/159 [==============================] - 1s 4ms/step - loss: 0.4093 - accuracy: 0.8618 - val_loss: 0.6048 - val_accuracy: 0.7993\n",
      "Epoch 14/25\n",
      "159/159 [==============================] - 1s 5ms/step - loss: 0.3718 - accuracy: 0.8760 - val_loss: 0.5721 - val_accuracy: 0.8564\n",
      "Epoch 15/25\n",
      "159/159 [==============================] - 1s 5ms/step - loss: 0.2734 - accuracy: 0.9033 - val_loss: 0.8284 - val_accuracy: 0.7993\n",
      "Epoch 16/25\n",
      "159/159 [==============================] - 1s 6ms/step - loss: 0.3316 - accuracy: 0.8831 - val_loss: 0.7240 - val_accuracy: 0.8527\n",
      "Epoch 17/25\n",
      "159/159 [==============================] - 1s 6ms/step - loss: 0.2389 - accuracy: 0.9175 - val_loss: 1.2225 - val_accuracy: 0.8232\n",
      "Epoch 18/25\n",
      "159/159 [==============================] - 1s 9ms/step - loss: 0.3505 - accuracy: 0.8891 - val_loss: 0.6287 - val_accuracy: 0.8416\n",
      "Epoch 19/25\n",
      "159/159 [==============================] - 1s 7ms/step - loss: 0.2109 - accuracy: 0.9175 - val_loss: 0.5826 - val_accuracy: 0.8398\n",
      "Epoch 20/25\n",
      "159/159 [==============================] - 1s 7ms/step - loss: 0.1696 - accuracy: 0.9372 - val_loss: 0.7084 - val_accuracy: 0.8545\n",
      "Epoch 21/25\n",
      "159/159 [==============================] - 1s 7ms/step - loss: 0.3146 - accuracy: 0.8993 - val_loss: 0.5616 - val_accuracy: 0.8250\n",
      "Epoch 22/25\n",
      "159/159 [==============================] - 1s 6ms/step - loss: 0.1910 - accuracy: 0.9305 - val_loss: 0.7417 - val_accuracy: 0.8177\n",
      "Epoch 23/25\n",
      "159/159 [==============================] - 1s 8ms/step - loss: 0.1848 - accuracy: 0.9285 - val_loss: 0.8305 - val_accuracy: 0.7901\n",
      "Epoch 24/25\n",
      "159/159 [==============================] - 1s 6ms/step - loss: 0.2545 - accuracy: 0.9045 - val_loss: 0.9600 - val_accuracy: 0.8122\n",
      "Epoch 25/25\n",
      "159/159 [==============================] - 1s 9ms/step - loss: 0.4316 - accuracy: 0.8591 - val_loss: 0.6357 - val_accuracy: 0.8250\n"
     ]
    }
   ],
   "source": [
    "3"
   ]
  },
  {
   "cell_type": "code",
   "execution_count": 137,
   "id": "b5fdf139-b054-48fc-b092-d92c85381bba",
   "metadata": {},
   "outputs": [
    {
     "name": "stderr",
     "output_type": "stream",
     "text": [
      "/opt/anaconda3/envs/week4/lib/python3.8/site-packages/keras/src/engine/training.py:3000: UserWarning: You are saving your model as an HDF5 file via `model.save()`. This file format is considered legacy. We recommend using instead the native Keras format, e.g. `model.save('my_model.keras')`.\n",
      "  saving_api.save_model(\n"
     ]
    }
   ],
   "source": [
    "model.save('audio_model_v2.h5')"
   ]
  },
  {
   "cell_type": "code",
   "execution_count": 134,
   "id": "69f349a2-ddd2-46f6-93e0-ada1e2850c10",
   "metadata": {},
   "outputs": [
    {
     "name": "stdout",
     "output_type": "stream",
     "text": [
      "17/17 [==============================] - 0s 1ms/step\n"
     ]
    },
    {
     "data": {
      "image/png": "[encoded data removed]",
      "text/plain": [
       "<Figure size 640x480 with 2 Axes>"
      ]
     },
     "metadata": {},
     "output_type": "display_data"
    }
   ],
   "source": [
    "\n",
    "y_pred_prob = model.predict(x_test)\n",
    "\n",
    "def convert_prob(y_pred_prob, threshold=0.5):\n",
    "  y_pred_one_hot = np.where(y_pred_prob >= threshold, 1, 0)\n",
    "  return y_pred_one_hot\n",
    "\n",
    "y_pred_one_hot = convert_prob(y_pred_prob, threshold=0.5)\n",
    "y_pred = np.argmax(y_pred_one_hot, axis = 1)\n",
    "y_true = np.argmax(y_test, axis = 1)\n",
    "z = ConfusionMatrixDisplay(confusion_matrix = confusion_matrix(y_true, y_pred))\n",
    "z.plot()\n",
    "plt.show()"
   ]
  },
  {
   "cell_type": "code",
   "execution_count": 136,
   "id": "df6d0c15-e017-4470-86a1-be7debd0a62f",
   "metadata": {},
   "outputs": [
    {
     "data": {
      "text/plain": [
       "0.8103130755064457"
      ]
     },
     "execution_count": 136,
     "metadata": {},
     "output_type": "execute_result"
    }
   ],
   "source": [
    "accuracy_score(y_true, y_pred)"
   ]
  },
  {
   "cell_type": "code",
   "execution_count": null,
   "id": "b62625f1-56bb-42bc-9ddf-4a52dd7e38cf",
   "metadata": {},
   "outputs": [],
   "source": []
  }
 ],
 "metadata": {
  "kernelspec": {
   "display_name": "Python 3 (ipykernel)",
   "language": "python",
   "name": "python3"
  },
  "language_info": {
   "codemirror_mode": {
    "name": "ipython",
    "version": 3
   },
   "file_extension": ".py",
   "mimetype": "text/x-python",
   "name": "python",
   "nbconvert_exporter": "python",
   "pygments_lexer": "ipython3",
   "version": "3.8.19"
  }
 },
 "nbformat": 4,
 "nbformat_minor": 5
}
